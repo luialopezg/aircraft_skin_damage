{
 "cells": [
  {
   "cell_type": "code",
   "execution_count": null,
   "metadata": {},
   "outputs": [],
   "source": [
    "import torch\n",
    "import clip\n",
    "from PIL import Image\n",
    "import os\n",
    "import time\n",
    "import matplotlib.pyplot as plt\n"
   ]
  },
  {
   "cell_type": "code",
   "execution_count": null,
   "metadata": {},
   "outputs": [],
   "source": [
    "# Verificar si tenemos GPU disponible\n",
    "device = \"cuda\" if torch.cuda.is_available() else \"cpu\"\n",
    "\n",
    "# Cargar el modelo CLIP\n",
    "model, preprocess = clip.load(\"ViT-B/32\", device=device)\n",
    "\n",
    "# Ruta de las imágenes\n",
    "image_path = \"../data/raw/train\"\n",
    "image_files = [f for f in os.listdir(image_path) if f.endswith((\".jpg\", \".png\"))]\n",
    "\n",
    "if len(image_files) < 5:\n",
    "    print(\"❌ Not enough images in the folder for testing (minimum 5 required).\")\n",
    "    exit()\n"
   ]
  },
  {
   "cell_type": "code",
   "execution_count": null,
   "metadata": {},
   "outputs": [],
   "source": [
    "# Seleccionar 5 imágenes\n",
    "selected_images = image_files[:5]\n",
    "\n",
    "# Definir posibles descripciones mejoradas en inglés\n",
    "text_descriptions = [\n",
    "    \"Dent on the fuselage surface\",\n",
    "    \"Crack on the wing structure\",\n",
    "    \"Corrosion detected in the engine\",\n",
    "    \"Superficial scratch on the body\",\n",
    "    \"Impact mark from a foreign object\",\n",
    "    \"Severe structural damage observed\"\n",
    "]\n"
   ]
  },
  {
   "cell_type": "code",
   "execution_count": null,
   "metadata": {},
   "outputs": [],
   "source": [
    "# Tokenizar descripciones\n",
    "text_tokens = clip.tokenize(text_descriptions).to(device)\n",
    "\n",
    "# Medir tiempo de ejecución\n",
    "start_time = time.time()"
   ]
  },
  {
   "cell_type": "code",
   "execution_count": null,
   "metadata": {},
   "outputs": [],
   "source": [
    "# Procesar imágenes\n",
    "results = []\n",
    "for img_name in selected_images:\n",
    "    img_path = os.path.join(image_path, img_name)\n",
    "    image = Image.open(img_path)\n",
    "    image_preprocessed = preprocess(image).unsqueeze(0).to(device)\n",
    "\n",
    "    # Calcular similitud entre la imagen y las descripciones\n",
    "    with torch.no_grad():\n",
    "        image_features = model.encode_image(image_preprocessed)\n",
    "        text_features = model.encode_text(text_tokens)\n",
    "        similarity = (image_features @ text_features.T).softmax(dim=-1)\n",
    "\n",
    "    # Seleccionar la descripción más probable\n",
    "    best_match = text_descriptions[similarity.argmax()]\n",
    "    \n",
    "    # Guardar resultado\n",
    "    results.append((img_name, best_match))\n",
    "\n"
   ]
  },
  {
   "cell_type": "code",
   "execution_count": null,
   "metadata": {},
   "outputs": [],
   "source": [
    "    # Mostrar imagen con su predicción\n",
    "    plt.figure(figsize=(5, 6))\n",
    "    plt.imshow(image)\n",
    "    plt.axis(\"off\")\n",
    "    plt.title(f\"Generated description: {best_match}\", fontsize=11, color=\"blue\")\n",
    "    plt.show()"
   ]
  },
  {
   "cell_type": "code",
   "execution_count": null,
   "metadata": {},
   "outputs": [],
   "source": [
    "# Medir tiempo final\n",
    "end_time = time.time()\n",
    "execution_time = end_time - start_time\n",
    "\n",
    "# Imprimir resultados en la terminal\n",
    "print(\"\\n✅ Test results with 5 images:\")\n",
    "for img_name, desc in results:\n",
    "    print(f\"📌 {img_name}: {desc}\")\n",
    "\n",
    "print(f\"\\n⏳ Total execution time: {execution_time:.2f} seconds\")"
   ]
  }
 ],
 "metadata": {
  "kernelspec": {
   "display_name": "env",
   "language": "python",
   "name": "python3"
  },
  "language_info": {
   "codemirror_mode": {
    "name": "ipython",
    "version": 3
   },
   "file_extension": ".py",
   "mimetype": "text/x-python",
   "name": "python",
   "nbconvert_exporter": "python",
   "pygments_lexer": "ipython3",
   "version": "3.10.12"
  }
 },
 "nbformat": 4,
 "nbformat_minor": 2
}
