{
 "cells": [
  {
   "cell_type": "code",
   "execution_count": null,
   "metadata": {},
   "outputs": [],
   "source": [
    "import torch\n",
    "import clip\n",
    "from PIL import Image\n",
    "import os"
   ]
  },
  {
   "cell_type": "code",
   "execution_count": null,
   "metadata": {},
   "outputs": [],
   "source": [
    "# Verificar si tenemos GPU disponible\n",
    "device = \"cuda\" if torch.cuda.is_available() else \"cpu\"\n",
    "\n",
    "# Cargar el modelo CLIP\n",
    "model, preprocess = clip.load(\"ViT-B/32\", device=device)\n",
    "\n",
    "# Ruta de la imagen de prueba\n",
    "image_path = \"../data/raw/train\"\n",
    "image_files = [f for f in os.listdir(image_path) if f.endswith((\".jpg\", \".png\"))]\n",
    "\n",
    "if not image_files:\n",
    "    print(\"❌ No images found in folder:\", image_path)\n",
    "    exit()"
   ]
  },
  {
   "cell_type": "code",
   "execution_count": null,
   "metadata": {},
   "outputs": [],
   "source": [
    "image_file = os.path.join(image_path, image_files[0])  # Select the first image\n",
    "\n",
    "# Cargar y preprocesar la imagen\n",
    "image = preprocess(Image.open(image_file)).unsqueeze(0).to(device)\n",
    "\n",
    "# Definir posibles descripciones mejoradas en inglés\n",
    "text_descriptions = [\n",
    "    \"Dent on the fuselage surface\",\n",
    "    \"Crack on the wing structure\",\n",
    "    \"Corrosion detected in the engine\",\n",
    "    \"Superficial scratch on the body\",\n",
    "    \"Impact mark from a foreign object\",\n",
    "    \"Severe structural damage observed\"\n",
    "]"
   ]
  },
  {
   "cell_type": "code",
   "execution_count": null,
   "metadata": {},
   "outputs": [],
   "source": [
    "# Tokenizar descripciones\n",
    "text_tokens = clip.tokenize(text_descriptions).to(device)\n"
   ]
  },
  {
   "cell_type": "code",
   "execution_count": null,
   "metadata": {},
   "outputs": [],
   "source": [
    "# Calcular similitud entre la imagen y las descripciones\n",
    "with torch.no_grad():\n",
    "    image_features = model.encode_image(image)\n",
    "    text_features = model.encode_text(text_tokens)\n",
    "    similarity = (image_features @ text_features.T).softmax(dim=-1)\n"
   ]
  },
  {
   "cell_type": "code",
   "execution_count": null,
   "metadata": {},
   "outputs": [],
   "source": [
    "# Seleccionar la descripción más probable\n",
    "best_match = text_descriptions[similarity.argmax()]"
   ]
  },
  {
   "cell_type": "code",
   "execution_count": null,
   "metadata": {},
   "outputs": [],
   "source": [
    "# Mostrar resultado\n",
    "print(f\"✅ Predicted description for {image_file}: {best_match}\")"
   ]
  }
 ],
 "metadata": {
  "kernelspec": {
   "display_name": "env",
   "language": "python",
   "name": "python3"
  },
  "language_info": {
   "codemirror_mode": {
    "name": "ipython",
    "version": 3
   },
   "file_extension": ".py",
   "mimetype": "text/x-python",
   "name": "python",
   "nbconvert_exporter": "python",
   "pygments_lexer": "ipython3",
   "version": "3.10.12"
  }
 },
 "nbformat": 4,
 "nbformat_minor": 2
}
