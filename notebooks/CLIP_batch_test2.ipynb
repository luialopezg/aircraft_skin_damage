{
 "cells": [
  {
   "cell_type": "code",
   "execution_count": null,
   "metadata": {},
   "outputs": [],
   "source": [
    "import torch\n",
    "import clip\n",
    "from PIL import Image\n",
    "import os\n",
    "import time\n",
    "import re\n",
    "import matplotlib.pyplot as plt"
   ]
  },
  {
   "cell_type": "code",
   "execution_count": null,
   "metadata": {},
   "outputs": [],
   "source": [
    "# Verificar si tenemos GPU disponible\n",
    "device = \"cuda\" if torch.cuda.is_available() else \"cpu\"\n",
    "\n",
    "# Cargar el modelo CLIP\n",
    "model, preprocess = clip.load(\"ViT-B/32\", device=device)\n",
    "\n",
    "# Ruta de las imágenes\n",
    "image_path = \"../data/raw/train\"\n",
    "image_files = [f for f in os.listdir(image_path) if f.endswith((\".jpg\", \".png\"))]\n",
    "\n",
    "if len(image_files) < 5:\n",
    "    print(\"❌ Not enough images in the folder for testing (minimum 5 required).\")\n",
    "    exit()\n"
   ]
  },
  {
   "cell_type": "code",
   "execution_count": null,
   "metadata": {},
   "outputs": [],
   "source": [
    "# Seleccionar 5 imágenes\n",
    "selected_images = image_files[:5]\n",
    "\n",
    "# Definir posibles descripciones mejoradas en inglés\n",
    "text_descriptions = [\n",
    "    \"Dent on the fuselage surface\",\n",
    "    \"Crack on the wing structure\",\n",
    "    \"Corrosion detected in the engine\",\n",
    "    \"Superficial scratch on the body\",\n",
    "    \"Impact mark from a foreign object\",\n",
    "    \"Severe structural damage observed\"\n",
    "]\n",
    "\n",
    "# Tokenizar descripciones\n",
    "text_tokens = clip.tokenize(text_descriptions).to(device)"
   ]
  },
  {
   "cell_type": "code",
   "execution_count": null,
   "metadata": {},
   "outputs": [],
   "source": [
    "# Función para extraer palabras clave del nombre del archivo\n",
    "def extract_keywords(filename):\n",
    "    filename = filename.replace(\"_\", \" \").replace(\"-\", \" \")  # Normalize separators\n",
    "    keywords = re.findall(r'\\b(Cessna|Beechcraft|Boeing|Wing|Structure|Rudder|Dent|Damage|Trim|Assembly|Fuselage|Hailstorm|Minus|Core)\\b', filename, re.IGNORECASE)\n",
    "    return \" \".join(set(keywords)) if keywords else \"Unknown\""
   ]
  },
  {
   "cell_type": "code",
   "execution_count": null,
   "metadata": {},
   "outputs": [],
   "source": [
    "# Medir tiempo de ejecución\n",
    "start_time = time.time()\n",
    "\n",
    "# Procesar imágenes\n",
    "results = []\n",
    "for img_name in selected_images:\n",
    "    img_path = os.path.join(image_path, img_name)\n",
    "    image = Image.open(img_path)\n",
    "    image_preprocessed = preprocess(image).unsqueeze(0).to(device)\n",
    "\n",
    "    # Extraer palabras clave del nombre del archivo\n",
    "    file_keywords = extract_keywords(img_name)\n",
    "\n",
    "    # Ajustar las descripciones de CLIP con la información extraída\n",
    "    enhanced_descriptions = [f\"{desc} ({file_keywords})\" for desc in text_descriptions]\n",
    "\n",
    "    # Tokenizar nuevas descripciones\n",
    "    enhanced_text_tokens = clip.tokenize(enhanced_descriptions).to(device)\n",
    "\n",
    "    # Calcular similitud entre la imagen y las descripciones\n",
    "    with torch.no_grad():\n",
    "        image_features = model.encode_image(image_preprocessed)\n",
    "        text_features = model.encode_text(enhanced_text_tokens)\n",
    "        similarity = (image_features @ text_features.T).softmax(dim=-1)\n",
    "\n",
    "    # Seleccionar la descripción más probable\n",
    "    best_match = enhanced_descriptions[similarity.argmax()]\n",
    "    \n",
    "    # Guardar resultado\n",
    "    results.append((img_name, best_match))\n",
    "\n",
    "    # Mostrar imagen con su predicción\n",
    "    plt.figure(figsize=(6, 6))\n",
    "    plt.imshow(image)\n",
    "    plt.axis(\"off\")\n",
    "    plt.title(f\"Generated description: {best_match}\", fontsize=12, color=\"blue\")\n",
    "    plt.show()\n",
    "\n",
    "# Medir tiempo final\n",
    "end_time = time.time()\n",
    "execution_time = end_time - start_time\n",
    "\n",
    "# Imprimir resultados en la terminal\n",
    "print(\"\\n✅ Test results with 5 images (enhanced with filename information):\")\n",
    "for img_name, desc in results:\n",
    "    print(f\"📌 {img_name}: {desc}\")\n",
    "\n",
    "print(f\"\\n⏳ Total execution time: {execution_time:.2f} seconds\")"
   ]
  }
 ],
 "metadata": {
  "kernelspec": {
   "display_name": "env",
   "language": "python",
   "name": "python3"
  },
  "language_info": {
   "codemirror_mode": {
    "name": "ipython",
    "version": 3
   },
   "file_extension": ".py",
   "mimetype": "text/x-python",
   "name": "python",
   "nbconvert_exporter": "python",
   "pygments_lexer": "ipython3",
   "version": "3.10.12"
  }
 },
 "nbformat": 4,
 "nbformat_minor": 2
}
